{
 "cells": [
  {
   "cell_type": "code",
   "execution_count": 1,
   "metadata": {},
   "outputs": [
    {
     "name": "stdout",
     "output_type": "stream",
     "text": [
      "Overlap similarity between row 1 and row 2: 0.5\n"
     ]
    }
   ],
   "source": [
    "import pandas as pd\n",
    "\n",
    "\n",
    "adult_df = pd.read_csv('cleaned_adult.csv')\n",
    "\n",
    "# Convert categorical columns to sets of one-hot encoded features\n",
    "categorical_columns = ['Work_Class', 'Education', 'Marital_Status', 'Occupation', \n",
    "                       'Relationship', 'Race', 'Sex', 'Native_Country']\n",
    "\n",
    "adult_features = pd.get_dummies(adult_df[categorical_columns])\n",
    "#to convert the categorical columns into sets of one-hot encoded features.\n",
    "# One-hot encoding is a way to represent categorical data as binary vectors.\n",
    "\n",
    "# Function to calculate overlap similarity between two rows\n",
    "def overlap_similarity(row1, row2):\n",
    "    common_features = sum((row1 & row2).values)\n",
    "    min_size = min(row1.sum(), row2.sum())\n",
    "    return common_features / min_size if min_size != 0 else 0\n",
    "\n",
    "# Example: Calculate overlap similarity between two random rows\n",
    "row1 = adult_features.iloc[0]\n",
    "row2 = adult_features.iloc[1]\n",
    "similarity = overlap_similarity(row1, row2)\n",
    "print(\"Overlap similarity between row 1 and row 2:\", similarity)\n",
    "\n",
    "#Binary vectors are vectors where each element can have one of two possible values: 0 or 1.\n",
    "# These vectors are commonly used to represent categorical data in a format that is suitable for machine learning algorithms.\n"
   ]
  },
  {
   "cell_type": "code",
   "execution_count": null,
   "metadata": {},
   "outputs": [],
   "source": []
  }
 ],
 "metadata": {
  "kernelspec": {
   "display_name": "Python 3",
   "language": "python",
   "name": "python3"
  },
  "language_info": {
   "codemirror_mode": {
    "name": "ipython",
    "version": 3
   },
   "file_extension": ".py",
   "mimetype": "text/x-python",
   "name": "python",
   "nbconvert_exporter": "python",
   "pygments_lexer": "ipython3",
   "version": "3.12.1"
  }
 },
 "nbformat": 4,
 "nbformat_minor": 2
}
