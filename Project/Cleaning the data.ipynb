{
 "cells": [
  {
   "cell_type": "code",
   "execution_count": null,
   "metadata": {},
   "outputs": [],
   "source": []
  },
  {
   "cell_type": "code",
   "execution_count": 1,
   "metadata": {},
   "outputs": [],
   "source": [
    "import pandas as pd"
   ]
  },
  {
   "cell_type": "code",
   "execution_count": 2,
   "metadata": {},
   "outputs": [],
   "source": [
    "df = pd.read_csv('adult.csv')"
   ]
  },
  {
   "cell_type": "code",
   "execution_count": 3,
   "metadata": {},
   "outputs": [
    {
     "name": "stdout",
     "output_type": "stream",
     "text": [
      "   Age          WorkClass   Education     Marital_Status\\t  \\\n",
      "0   39          State-gov   Bachelors        Never-married   \n",
      "1   50   Self-emp-not-inc   Bachelors   Married-civ-spouse   \n",
      "2   38            Private     HS-grad             Divorced   \n",
      "3   53            Private        11th   Married-civ-spouse   \n",
      "4   28            Private   Bachelors   Married-civ-spouse   \n",
      "\n",
      "           Occupation    Relationship    Race      Sex  Capital_Gain  \\\n",
      "0        Adm-clerical   Not-in-family   White     Male          2174   \n",
      "1     Exec-managerial         Husband   White     Male             0   \n",
      "2   Handlers-cleaners   Not-in-family   White     Male             0   \n",
      "3   Handlers-cleaners         Husband   Black     Male             0   \n",
      "4      Prof-specialty            Wife   Black   Female             0   \n",
      "\n",
      "   Capital_Loss  Hours_per_week\\t Native_Country\\t  Income  \n",
      "0             0                40    United-States   <=50K  \n",
      "1             0                13    United-States   <=50K  \n",
      "2             0                40    United-States   <=50K  \n",
      "3             0                40    United-States   <=50K  \n",
      "4             0                40             Cuba   <=50K  \n"
     ]
    }
   ],
   "source": [
    "# Display the first few rows of the dataset\n",
    "print(df.head())"
   ]
  },
  {
   "cell_type": "code",
   "execution_count": 4,
   "metadata": {},
   "outputs": [
    {
     "name": "stdout",
     "output_type": "stream",
     "text": [
      "                Age  Capital_Gain  Capital_Loss  Hours_per_week\\t\n",
      "count  32561.000000  32561.000000  32561.000000      32561.000000\n",
      "mean      38.581647   1077.648844     87.303830         40.437456\n",
      "std       13.640433   7385.292085    402.960219         12.347429\n",
      "min       17.000000      0.000000      0.000000          1.000000\n",
      "25%       28.000000      0.000000      0.000000         40.000000\n",
      "50%       37.000000      0.000000      0.000000         40.000000\n",
      "75%       48.000000      0.000000      0.000000         45.000000\n",
      "max       90.000000  99999.000000   4356.000000         99.000000\n"
     ]
    }
   ],
   "source": [
    "# Check the summary statistics of the dataset\n",
    "print(df.describe())"
   ]
  },
  {
   "cell_type": "code",
   "execution_count": 5,
   "metadata": {},
   "outputs": [
    {
     "name": "stdout",
     "output_type": "stream",
     "text": [
      "Age                  int64\n",
      "WorkClass           object\n",
      "Education           object\n",
      "Marital_Status\\t    object\n",
      "Occupation          object\n",
      "Relationship        object\n",
      "Race                object\n",
      "Sex                 object\n",
      "Capital_Gain         int64\n",
      "Capital_Loss         int64\n",
      "Hours_per_week\\t     int64\n",
      "Native_Country\\t    object\n",
      "Income              object\n",
      "dtype: object\n"
     ]
    }
   ],
   "source": [
    "# Check the data types of the columns\n",
    "print(df.dtypes)"
   ]
  },
  {
   "cell_type": "code",
   "execution_count": 6,
   "metadata": {},
   "outputs": [],
   "source": [
    "# Define a dictionary mapping old column names to new column names\n",
    "column_names = {\n",
    "    'WorkClass': 'Work_Class',\n",
    "    'Marital_Status\\t': 'Marital_Status',\n",
    "    'Hours_per_week\\t': 'Hours_per_week',\n",
    "    'Native_Country\\t': 'Native_Country',\n",
    "}\n",
    "\n",
    "# Use the rename() function to change the column names\n",
    "df = df.rename(columns=column_names)"
   ]
  },
  {
   "cell_type": "markdown",
   "metadata": {},
   "source": [
    "# Loop through each column and print unique values"
   ]
  },
  {
   "cell_type": "code",
   "execution_count": 7,
   "metadata": {},
   "outputs": [
    {
     "name": "stdout",
     "output_type": "stream",
     "text": [
      "Unique values in column 'Age':\n",
      "[39 50 38 53 28 37 49 52 31 42 30 23 32 40 34 25 43 54 35 59 56 19 20 45\n",
      " 22 48 21 24 57 44 41 29 18 47 46 36 79 27 67 33 76 17 55 61 70 64 71 68\n",
      " 66 51 58 26 60 90 75 65 77 62 63 80 72 74 69 73 81 78 88 82 83 84 85 86\n",
      " 87]\n",
      "\n",
      "Unique values in column 'Work_Class':\n",
      "[' State-gov' ' Self-emp-not-inc' ' Private' ' Federal-gov' ' Local-gov'\n",
      " ' ?' ' Self-emp-inc' ' Without-pay' ' Never-worked']\n",
      "\n",
      "Unique values in column 'Education':\n",
      "[' Bachelors' ' HS-grad' ' 11th' ' Masters' ' 9th' ' Some-college'\n",
      " ' Assoc-acdm' ' Assoc-voc' ' 7th-8th' ' Doctorate' ' Prof-school'\n",
      " ' 5th-6th' ' 10th' ' 1st-4th' ' Preschool' ' 12th']\n",
      "\n",
      "Unique values in column 'Marital_Status':\n",
      "[' Never-married' ' Married-civ-spouse' ' Divorced'\n",
      " ' Married-spouse-absent' ' Separated' ' Married-AF-spouse' ' Widowed']\n",
      "\n",
      "Unique values in column 'Occupation':\n",
      "[' Adm-clerical' ' Exec-managerial' ' Handlers-cleaners' ' Prof-specialty'\n",
      " ' Other-service' ' Sales' ' Craft-repair' ' Transport-moving'\n",
      " ' Farming-fishing' ' Machine-op-inspct' ' Tech-support' ' ?'\n",
      " ' Protective-serv' ' Armed-Forces' ' Priv-house-serv']\n",
      "\n",
      "Unique values in column 'Relationship':\n",
      "[' Not-in-family' ' Husband' ' Wife' ' Own-child' ' Unmarried'\n",
      " ' Other-relative']\n",
      "\n",
      "Unique values in column 'Race':\n",
      "[' White' ' Black' ' Asian-Pac-Islander' ' Amer-Indian-Eskimo' ' Other']\n",
      "\n",
      "Unique values in column 'Sex':\n",
      "[' Male' ' Female']\n",
      "\n",
      "Unique values in column 'Capital_Gain':\n",
      "[ 2174     0 14084  5178  5013  2407 14344 15024  7688 34095  4064  4386\n",
      "  7298  1409  3674  1055  3464  2050  2176   594 20051  6849  4101  1111\n",
      "  8614  3411  2597 25236  4650  9386  2463  3103 10605  2964  3325  2580\n",
      "  3471  4865 99999  6514  1471  2329  2105  2885 25124 10520  2202  2961\n",
      " 27828  6767  2228  1506 13550  2635  5556  4787  3781  3137  3818  3942\n",
      "   914   401  2829  2977  4934  2062  2354  5455 15020  1424  3273 22040\n",
      "  4416  3908 10566   991  4931  1086  7430  6497   114  7896  2346  3418\n",
      "  3432  2907  1151  2414  2290 15831 41310  4508  2538  3456  6418  1848\n",
      "  3887  5721  9562  1455  2036  1831 11678  2936  2993  7443  6360  1797\n",
      "  1173  4687  6723  2009  6097  2653  1639 18481  7978  2387  5060]\n",
      "\n",
      "Unique values in column 'Capital_Loss':\n",
      "[   0 2042 1408 1902 1573 1887 1719 1762 1564 2179 1816 1980 1977 1876\n",
      " 1340 2206 1741 1485 2339 2415 1380 1721 2051 2377 1669 2352 1672  653\n",
      " 2392 1504 2001 1590 1651 1628 1848 1740 2002 1579 2258 1602  419 2547\n",
      " 2174 2205 1726 2444 1138 2238  625  213 1539  880 1668 1092 1594 3004\n",
      " 2231 1844  810 2824 2559 2057 1974  974 2149 1825 1735 1258 2129 2603\n",
      " 2282  323 4356 2246 1617 1648 2489 3770 1755 3683 2267 2080 2457  155\n",
      " 3900 2201 1944 2467 2163 2754 2472 1411]\n",
      "\n",
      "Unique values in column 'Hours_per_week':\n",
      "[40 13 16 45 50 80 30 35 60 20 52 44 15 25 38 43 55 48 58 32 70  2 22 56\n",
      " 41 28 36 24 46 42 12 65  1 10 34 75 98 33 54  8  6 64 19 18 72  5  9 47\n",
      " 37 21 26 14  4 59  7 99 53 39 62 57 78 90 66 11 49 84  3 17 68 27 85 31\n",
      " 51 77 63 23 87 88 73 89 97 94 29 96 67 82 86 91 81 76 92 61 74 95]\n",
      "\n",
      "Unique values in column 'Native_Country':\n",
      "[' United-States' ' Cuba' ' Jamaica' ' India' ' ?' ' Mexico' ' South'\n",
      " ' Puerto-Rico' ' Honduras' ' England' ' Canada' ' Germany' ' Iran'\n",
      " ' Philippines' ' Italy' ' Poland' ' Columbia' ' Cambodia' ' Thailand'\n",
      " ' Ecuador' ' Laos' ' Taiwan' ' Haiti' ' Portugal' ' Dominican-Republic'\n",
      " ' El-Salvador' ' France' ' Guatemala' ' China' ' Japan' ' Yugoslavia'\n",
      " ' Peru' ' Outlying-US(Guam-USVI-etc)' ' Scotland' ' Trinadad&Tobago'\n",
      " ' Greece' ' Nicaragua' ' Vietnam' ' Hong' ' Ireland' ' Hungary'\n",
      " ' Holand-Netherlands']\n",
      "\n",
      "Unique values in column 'Income':\n",
      "[' <=50K' ' >50K']\n",
      "\n"
     ]
    }
   ],
   "source": [
    "for column in df.columns:\n",
    "    unique_values = df[column].unique()\n",
    "    print(f\"Unique values in column '{column}':\")\n",
    "    print(unique_values)\n",
    "    print()"
   ]
  },
  {
   "cell_type": "markdown",
   "metadata": {},
   "source": [
    "# Remove white spaces and convert values in a specific column to lowercase\n"
   ]
  },
  {
   "cell_type": "code",
   "execution_count": 8,
   "metadata": {},
   "outputs": [],
   "source": [
    "df['Work_Class'] = df['Work_Class'].str.strip()\n",
    "df['Education'] = df['Education'].str.strip()\n",
    "df['Marital_Status'] = df['Marital_Status'].str.strip()\n",
    "df['Occupation'] = df['Occupation'].str.strip()\n",
    "df['Relationship'] = df['Relationship'].str.strip()\n",
    "df['Race'] = df['Race'].str.strip()\n",
    "df['Sex'] = df['Sex'].str.strip()\n",
    "df['Native_Country'] = df['Native_Country'].str.strip()\n",
    "df['Income'] = df['Income'].str.strip()"
   ]
  },
  {
   "cell_type": "markdown",
   "metadata": {},
   "source": [
    "# Replace \"?\" with NaN\n"
   ]
  },
  {
   "cell_type": "code",
   "execution_count": 9,
   "metadata": {},
   "outputs": [],
   "source": [
    "df['Work_Class'] = df['Work_Class'].replace('?', pd.NA)\n",
    "df['Native_Country'] = df['Native_Country'].replace('?', pd.NA)\n",
    "df['Occupation'] = df['Occupation'].replace('?', pd.NA)"
   ]
  },
  {
   "cell_type": "code",
   "execution_count": 10,
   "metadata": {},
   "outputs": [
    {
     "name": "stdout",
     "output_type": "stream",
     "text": [
      "Age                  0\n",
      "Work_Class        1836\n",
      "Education            0\n",
      "Marital_Status       0\n",
      "Occupation        1843\n",
      "Relationship         0\n",
      "Race                 0\n",
      "Sex                  0\n",
      "Capital_Gain         0\n",
      "Capital_Loss         0\n",
      "Hours_per_week       0\n",
      "Native_Country     583\n",
      "Income               0\n",
      "dtype: int64\n"
     ]
    }
   ],
   "source": [
    "print(df.isna().sum())"
   ]
  },
  {
   "cell_type": "markdown",
   "metadata": {},
   "source": [
    "# Replace missing values in a specific column with \"Unknown\"\n"
   ]
  },
  {
   "cell_type": "code",
   "execution_count": 11,
   "metadata": {},
   "outputs": [],
   "source": [
    "df['Work_Class'] = df['Work_Class'].fillna('Unknown')\n",
    "df['Native_Country'] = df['Native_Country'].fillna('Unknown')\n",
    "df['Occupation'] = df['Occupation'].fillna('Unknown')"
   ]
  },
  {
   "cell_type": "markdown",
   "metadata": {},
   "source": [
    "# Converting the 'Income' column to binary values (1 for <=50K and 0 for >50K)\n"
   ]
  },
  {
   "cell_type": "code",
   "execution_count": 12,
   "metadata": {},
   "outputs": [],
   "source": [
    "df['Income'] = df['Income'].map({'<=50K': 1, '>50K': 0})"
   ]
  },
  {
   "cell_type": "code",
   "execution_count": 13,
   "metadata": {},
   "outputs": [],
   "source": [
    "df.to_csv('cleaned_adult.csv', index=False)"
   ]
  },
  {
   "cell_type": "code",
   "execution_count": 14,
   "metadata": {},
   "outputs": [],
   "source": [
    "df = pd.read_csv('cleaned_adult.csv')\n",
    "selected_rows = df.head(1000)\n",
    "selected_rows.to_csv('cleaned_adult_2.csv', index=False)\n"
   ]
  }
 ],
 "metadata": {
  "kernelspec": {
   "display_name": "Python 3",
   "language": "python",
   "name": "python3"
  },
  "language_info": {
   "codemirror_mode": {
    "name": "ipython",
    "version": 3
   },
   "file_extension": ".py",
   "mimetype": "text/x-python",
   "name": "python",
   "nbconvert_exporter": "python",
   "pygments_lexer": "ipython3",
   "version": "3.12.1"
  }
 },
 "nbformat": 4,
 "nbformat_minor": 2
}
